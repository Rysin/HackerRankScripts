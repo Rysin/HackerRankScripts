{
 "cells": [
  {
   "cell_type": "markdown",
   "id": "efa0172b",
   "metadata": {},
   "source": [
    "# Quiz"
   ]
  },
  {
   "cell_type": "markdown",
   "id": "d1fb601e",
   "metadata": {},
   "source": [
    "## TUP ARTHEMATIC"
   ]
  },
  {
   "cell_type": "code",
   "execution_count": 1,
   "id": "20a9d8bb",
   "metadata": {},
   "outputs": [
    {
     "name": "stdout",
     "output_type": "stream",
     "text": [
      "ID tup1 = 1824897349888\n",
      "(1, 2, '3', 1, 2, '3')\n",
      "ID tup1 after = 1824897349888\n"
     ]
    }
   ],
   "source": [
    "tup1 = (1, 2, '3')\n",
    "print(f'ID tup1 = {id(tup1)}')\n",
    "print(tup1*2)\n",
    "print(f'ID tup1 after = {id(tup1)}')"
   ]
  },
  {
   "cell_type": "markdown",
   "id": "a7c06513",
   "metadata": {},
   "source": [
    "## List Arthemetic"
   ]
  },
  {
   "cell_type": "code",
   "execution_count": 2,
   "id": "8dd3cd51",
   "metadata": {},
   "outputs": [
    {
     "name": "stdout",
     "output_type": "stream",
     "text": [
      "ID lst1 = 1824897187560\n",
      "(1, 2, '3', 1, 2, '3')\n",
      "ID lst1 after = 1824897187560\n"
     ]
    }
   ],
   "source": [
    "lst1 = (1, 2, '3')\n",
    "print(f'ID lst1 = {id(lst1)}')\n",
    "print(lst1*2)\n",
    "print(f'ID lst1 after = {id(lst1)}')"
   ]
  },
  {
   "cell_type": "code",
   "execution_count": 3,
   "id": "bfc46535",
   "metadata": {},
   "outputs": [
    {
     "data": {
      "text/plain": [
       "True"
      ]
     },
     "execution_count": 3,
     "metadata": {},
     "output_type": "execute_result"
    }
   ],
   "source": [
    "\"\"in'word'"
   ]
  },
  {
   "cell_type": "markdown",
   "id": "a32ce727",
   "metadata": {},
   "source": [
    "## Octal Number"
   ]
  },
  {
   "cell_type": "code",
   "execution_count": 6,
   "id": "031375bd",
   "metadata": {},
   "outputs": [
    {
     "name": "stdout",
     "output_type": "stream",
     "text": [
      "3\n",
      "4\n",
      "5\n",
      "6\n",
      "7\n",
      "8\n",
      "9\n",
      "10\n",
      "11\n"
     ]
    }
   ],
   "source": [
    "num=3\n",
    "while True:\n",
    "    if (num%0o14 == 0):\n",
    "        break\n",
    "    print(num)\n",
    "    num += 1"
   ]
  },
  {
   "cell_type": "code",
   "execution_count": 10,
   "id": "341bcc27",
   "metadata": {},
   "outputs": [],
   "source": [
    "import math\n",
    "\n",
    "def main():\n",
    "    math.cos(math.pi)\n",
    "\n",
    "main()"
   ]
  },
  {
   "cell_type": "code",
   "execution_count": 8,
   "id": "cd2b607f",
   "metadata": {},
   "outputs": [
    {
     "name": "stdout",
     "output_type": "stream",
     "text": [
      "3.141592653589793\n"
     ]
    }
   ],
   "source": [
    "import math\n",
    "print(math.pi)"
   ]
  },
  {
   "cell_type": "markdown",
   "id": "ec2c8073",
   "metadata": {},
   "source": [
    "## List Reversal Without Using [::-1]"
   ]
  },
  {
   "cell_type": "code",
   "execution_count": 131,
   "id": "484bed28",
   "metadata": {},
   "outputs": [
    {
     "name": "stdout",
     "output_type": "stream",
     "text": [
      "15  14  13  12  11  15  "
     ]
    }
   ],
   "source": [
    "def rev_func(x,length): \n",
    "    print(x[length-1],end=\"  \")\n",
    "    if length != 0:\n",
    "        rev_func(x,length-1) \n",
    "x=[11, 12, 13, 14, 15] \n",
    "rev_func(x,5)"
   ]
  },
  {
   "cell_type": "code",
   "execution_count": 128,
   "id": "04382549",
   "metadata": {},
   "outputs": [
    {
     "data": {
      "text/plain": [
       "'ew gniod era uoY'"
      ]
     },
     "execution_count": 128,
     "metadata": {},
     "output_type": "execute_result"
    }
   ],
   "source": [
    "\"You are doing well\"[-3::-1]"
   ]
  },
  {
   "cell_type": "code",
   "execution_count": 23,
   "id": "418ea86f",
   "metadata": {},
   "outputs": [
    {
     "data": {
      "text/plain": [
       "True"
      ]
     },
     "execution_count": 23,
     "metadata": {},
     "output_type": "execute_result"
    }
   ],
   "source": [
    "allnums = \"9374728\"\n",
    "allnums.isdigit()"
   ]
  },
  {
   "cell_type": "code",
   "execution_count": 130,
   "id": "bce52fb0",
   "metadata": {},
   "outputs": [
    {
     "name": "stdout",
     "output_type": "stream",
     "text": [
      "<class 'float'>\n",
      "0.6034654799251695\n"
     ]
    }
   ],
   "source": [
    "import random\n",
    "print(type(random.random()))\n",
    "print((random.random()))"
   ]
  },
  {
   "cell_type": "code",
   "execution_count": 31,
   "id": "ff638116",
   "metadata": {},
   "outputs": [
    {
     "ename": "NameError",
     "evalue": "name 'long' is not defined",
     "output_type": "error",
     "traceback": [
      "\u001b[1;31m---------------------------------------------------------------------------\u001b[0m",
      "\u001b[1;31mNameError\u001b[0m                                 Traceback (most recent call last)",
      "\u001b[1;32m~\\AppData\\Local\\Temp\\ipykernel_17928\\1391883098.py\u001b[0m in \u001b[0;36m<module>\u001b[1;34m\u001b[0m\n\u001b[0;32m      1\u001b[0m \u001b[0msfloat\u001b[0m \u001b[1;33m=\u001b[0m \u001b[1;34m'3.1419'\u001b[0m\u001b[1;33m\u001b[0m\u001b[0m\n\u001b[1;32m----> 2\u001b[1;33m \u001b[0mprint\u001b[0m\u001b[1;33m(\u001b[0m\u001b[0mlong\u001b[0m\u001b[1;33m(\u001b[0m\u001b[0msfloat\u001b[0m\u001b[1;33m)\u001b[0m\u001b[1;33m)\u001b[0m\u001b[1;33m\u001b[0m\u001b[0m\n\u001b[0m",
      "\u001b[1;31mNameError\u001b[0m: name 'long' is not defined"
     ]
    }
   ],
   "source": [
    "sfloat = '3.1419'\n",
    "print(long(sfloat))"
   ]
  },
  {
   "cell_type": "code",
   "execution_count": 33,
   "id": "976444ef",
   "metadata": {},
   "outputs": [
    {
     "name": "stdout",
     "output_type": "stream",
     "text": [
      "16\n"
     ]
    }
   ],
   "source": [
    "strInt = '16'\n",
    "print(int(strInt))"
   ]
  },
  {
   "cell_type": "code",
   "execution_count": 37,
   "id": "d38cfe5c",
   "metadata": {},
   "outputs": [
    {
     "name": "stdout",
     "output_type": "stream",
     "text": [
      "14\n",
      "22\n",
      "16\n"
     ]
    }
   ],
   "source": [
    "print(int(strInt, base=8))\n",
    "print(int(strInt, base=16))\n",
    "# print(int(strInt, base=2))\n",
    "print(int(strInt, base=10))"
   ]
  },
  {
   "cell_type": "code",
   "execution_count": 82,
   "id": "6164b5ee",
   "metadata": {},
   "outputs": [],
   "source": [
    "## DICTIONARY COMPARISION"
   ]
  },
  {
   "cell_type": "code",
   "execution_count": 88,
   "id": "0245635b",
   "metadata": {},
   "outputs": [
    {
     "ename": "NameError",
     "evalue": "name 'cmp' is not defined",
     "output_type": "error",
     "traceback": [
      "\u001b[1;31m---------------------------------------------------------------------------\u001b[0m",
      "\u001b[1;31mNameError\u001b[0m                                 Traceback (most recent call last)",
      "\u001b[1;32m~\\AppData\\Local\\Temp\\ipykernel_17928\\3370578887.py\u001b[0m in \u001b[0;36m<module>\u001b[1;34m\u001b[0m\n\u001b[0;32m      2\u001b[0m \u001b[0mdict_1\u001b[0m \u001b[1;33m=\u001b[0m \u001b[1;33m{\u001b[0m\u001b[1;34m'a'\u001b[0m\u001b[1;33m:\u001b[0m\u001b[1;36m4\u001b[0m\u001b[1;33m,\u001b[0m \u001b[1;34m'b'\u001b[0m\u001b[1;33m:\u001b[0m\u001b[1;36m2\u001b[0m\u001b[1;33m,\u001b[0m \u001b[1;34m'c'\u001b[0m\u001b[1;33m:\u001b[0m\u001b[1;36m4\u001b[0m\u001b[1;33m}\u001b[0m\u001b[1;33m\u001b[0m\u001b[0m\n\u001b[0;32m      3\u001b[0m \u001b[1;33m\u001b[0m\u001b[0m\n\u001b[1;32m----> 4\u001b[1;33m \u001b[0mprint\u001b[0m\u001b[1;33m(\u001b[0m\u001b[0mcmp\u001b[0m\u001b[1;33m(\u001b[0m\u001b[0mdict_1\u001b[0m\u001b[1;33m,\u001b[0m \u001b[0mdict_2\u001b[0m\u001b[1;33m)\u001b[0m\u001b[1;33m)\u001b[0m\u001b[1;33m\u001b[0m\u001b[0m\n\u001b[0m",
      "\u001b[1;31mNameError\u001b[0m: name 'cmp' is not defined"
     ]
    }
   ],
   "source": [
    "dict_1 = {'a':1, 'b':2, 'c':3}\n",
    "dict_1 = {'a':4, 'b':2, 'c':4}\n",
    "\n",
    "print(cmp(dict_1, dict_2))"
   ]
  },
  {
   "cell_type": "code",
   "execution_count": 90,
   "id": "e591e004",
   "metadata": {},
   "outputs": [
    {
     "name": "stdout",
     "output_type": "stream",
     "text": [
      "114\n"
     ]
    }
   ],
   "source": [
    "print(ord('r'))"
   ]
  },
  {
   "cell_type": "code",
   "execution_count": 92,
   "id": "3cb10021",
   "metadata": {},
   "outputs": [
    {
     "data": {
      "text/plain": [
       "7"
      ]
     },
     "execution_count": 92,
     "metadata": {},
     "output_type": "execute_result"
    }
   ],
   "source": [
    "eval('1 + 3 * 2')"
   ]
  },
  {
   "cell_type": "code",
   "execution_count": 106,
   "id": "8083032e",
   "metadata": {},
   "outputs": [
    {
     "ename": "TypeError",
     "evalue": "'int' object is not iterable",
     "output_type": "error",
     "traceback": [
      "\u001b[1;31m---------------------------------------------------------------------------\u001b[0m",
      "\u001b[1;31mTypeError\u001b[0m                                 Traceback (most recent call last)",
      "\u001b[1;32m~\\AppData\\Local\\Temp\\ipykernel_17928\\3328206484.py\u001b[0m in \u001b[0;36m<module>\u001b[1;34m\u001b[0m\n\u001b[0;32m      1\u001b[0m \u001b[1;32mdef\u001b[0m \u001b[0mtotal\u001b[0m\u001b[1;33m(\u001b[0m\u001b[0minitial\u001b[0m \u001b[1;33m=\u001b[0m\u001b[1;36m5\u001b[0m\u001b[1;33m,\u001b[0m \u001b[1;33m*\u001b[0m\u001b[0mnum\u001b[0m\u001b[1;33m,\u001b[0m \u001b[1;33m**\u001b[0m\u001b[0mkey\u001b[0m\u001b[1;33m)\u001b[0m\u001b[1;33m:\u001b[0m\u001b[1;33m\u001b[0m\u001b[0m\n\u001b[0;32m      2\u001b[0m     \u001b[0mcount\u001b[0m \u001b[1;33m=\u001b[0m \u001b[0minitial\u001b[0m\u001b[1;33m\u001b[0m\u001b[0m\n\u001b[1;32m----> 3\u001b[1;33m \u001b[1;32mfor\u001b[0m \u001b[0mn\u001b[0m \u001b[1;32min\u001b[0m \u001b[0mnum\u001b[0m\u001b[1;33m:\u001b[0m\u001b[1;33m\u001b[0m\u001b[0m\n\u001b[0m\u001b[0;32m      4\u001b[0m     \u001b[0mcount\u001b[0m\u001b[1;33m+=\u001b[0m\u001b[0mn\u001b[0m\u001b[1;33m\u001b[0m\u001b[0m\n\u001b[0;32m      5\u001b[0m \u001b[1;32mfor\u001b[0m \u001b[0mk\u001b[0m \u001b[1;32min\u001b[0m \u001b[0mkey\u001b[0m\u001b[1;33m:\u001b[0m\u001b[1;33m\u001b[0m\u001b[0m\n",
      "\u001b[1;31mTypeError\u001b[0m: 'int' object is not iterable"
     ]
    }
   ],
   "source": [
    "def total(initial =5, *num, **key):\n",
    "    count = initial\n",
    "for n in num:\n",
    "    count+=n\n",
    "for k in key:\n",
    "    count+=key[k]\n",
    "    return count\n",
    "print(total(initial=100,num=[2,3], clouds=50, stars=100))"
   ]
  },
  {
   "cell_type": "code",
   "execution_count": 95,
   "id": "6a41019d",
   "metadata": {},
   "outputs": [
    {
     "name": "stdout",
     "output_type": "stream",
     "text": [
      "{'e', 'H', 'o', 'l'}\n"
     ]
    }
   ],
   "source": [
    "hello = 'Hello'\n",
    "print(set(hello))"
   ]
  },
  {
   "cell_type": "code",
   "execution_count": 96,
   "id": "3c285cb5",
   "metadata": {},
   "outputs": [
    {
     "name": "stdout",
     "output_type": "stream",
     "text": [
      "frozenset({'e', 'H', 'o', 'l'})\n"
     ]
    }
   ],
   "source": [
    "hello = 'Hello'\n",
    "print(frozenset(hello))"
   ]
  },
  {
   "cell_type": "code",
   "execution_count": 97,
   "id": "b1a7eb75",
   "metadata": {},
   "outputs": [
    {
     "name": "stdout",
     "output_type": "stream",
     "text": [
      "False\n"
     ]
    }
   ],
   "source": [
    "print(0.1+0.2==0.3)"
   ]
  },
  {
   "cell_type": "code",
   "execution_count": 98,
   "id": "3b2ae934",
   "metadata": {},
   "outputs": [
    {
     "name": "stdout",
     "output_type": "stream",
     "text": [
      "['a', 'c', 'd']\n"
     ]
    }
   ],
   "source": [
    "def func(values):\n",
    "    values[0] = 'a'\n",
    "v =[ 'b', 'c' , 'd']\n",
    "func(v)\n",
    "print(v)"
   ]
  },
  {
   "cell_type": "code",
   "execution_count": 103,
   "id": "9f5526d6",
   "metadata": {},
   "outputs": [
    {
     "name": "stdout",
     "output_type": "stream",
     "text": [
      "[1, 2, 22, 6, 5, 7, 8]\n"
     ]
    }
   ],
   "source": [
    "l = [1,2,6,5,7,8]\n",
    "l.insert(2,22)\n",
    "print(l)"
   ]
  },
  {
   "cell_type": "code",
   "execution_count": 104,
   "id": "f8193e10",
   "metadata": {},
   "outputs": [
    {
     "name": "stdout",
     "output_type": "stream",
     "text": [
      "[1, 2, 272, 22, 6, 5, 7, 8]\n"
     ]
    }
   ],
   "source": [
    "l.insert(2,272)\n",
    "print(l)"
   ]
  },
  {
   "cell_type": "markdown",
   "id": "7bc767fb",
   "metadata": {},
   "source": [
    "## TRY EXCEPT ELSE FINALLY"
   ]
  },
  {
   "cell_type": "code",
   "execution_count": 52,
   "id": "f4ae217c",
   "metadata": {},
   "outputs": [],
   "source": [
    "def foo():\n",
    "    a = 2\n",
    "    try:\n",
    "        a += 3\n",
    "        print('In Try Block')\n",
    "        print(a)\n",
    "#         return a\n",
    "    except Exception as e:\n",
    "        print('In Exception Block')\n",
    "        print(a)\n",
    "        return a*2\n",
    "    else:\n",
    "        print('In Else Block')\n",
    "        print(a)\n",
    "        a = a+1\n",
    "        return a+1\n",
    "    finally:\n",
    "        print('In Finally Block')\n",
    "        print(a)\n",
    "        return a*5\n",
    "   "
   ]
  },
  {
   "cell_type": "code",
   "execution_count": 53,
   "id": "fffa3f4d",
   "metadata": {},
   "outputs": [
    {
     "name": "stdout",
     "output_type": "stream",
     "text": [
      "In Try Block\n",
      "5\n",
      "In Else Block\n",
      "5\n",
      "In Finally Block\n",
      "6\n"
     ]
    },
    {
     "data": {
      "text/plain": [
       "30"
      ]
     },
     "execution_count": 53,
     "metadata": {},
     "output_type": "execute_result"
    }
   ],
   "source": [
    "foo()"
   ]
  },
  {
   "cell_type": "markdown",
   "id": "fb511091",
   "metadata": {},
   "source": [
    "## ASSERT"
   ]
  },
  {
   "cell_type": "code",
   "execution_count": 66,
   "id": "09924c50",
   "metadata": {},
   "outputs": [
    {
     "name": "stdout",
     "output_type": "stream",
     "text": [
      "End\n"
     ]
    }
   ],
   "source": [
    "x = \"hello\"\n",
    "\n",
    "#if condition returns True, then nothing happens:\n",
    "assert x == \"hello\"\n",
    "\n",
    "#if condition returns False, AssertionError is raised:\n",
    "# assert x == \"goodbye\"\n",
    "print('End')"
   ]
  },
  {
   "cell_type": "code",
   "execution_count": 67,
   "id": "0078da24",
   "metadata": {},
   "outputs": [
    {
     "ename": "AssertionError",
     "evalue": "x should be 'hello'",
     "output_type": "error",
     "traceback": [
      "\u001b[1;31m---------------------------------------------------------------------------\u001b[0m",
      "\u001b[1;31mAssertionError\u001b[0m                            Traceback (most recent call last)",
      "\u001b[1;32m~\\AppData\\Local\\Temp\\ipykernel_1128\\3824654699.py\u001b[0m in \u001b[0;36m<module>\u001b[1;34m\u001b[0m\n\u001b[0;32m      2\u001b[0m \u001b[1;33m\u001b[0m\u001b[0m\n\u001b[0;32m      3\u001b[0m \u001b[1;31m#if condition returns False, AssertionError is raised:\u001b[0m\u001b[1;33m\u001b[0m\u001b[1;33m\u001b[0m\u001b[0m\n\u001b[1;32m----> 4\u001b[1;33m \u001b[1;32massert\u001b[0m \u001b[0mx\u001b[0m \u001b[1;33m==\u001b[0m \u001b[1;34m\"goodbye\"\u001b[0m\u001b[1;33m,\u001b[0m \u001b[1;34m\"x should be 'hello'\"\u001b[0m\u001b[1;33m\u001b[0m\u001b[0m\n\u001b[0m",
      "\u001b[1;31mAssertionError\u001b[0m: x should be 'hello'"
     ]
    }
   ],
   "source": [
    "x = \"hello\"\n",
    "\n",
    "#if condition returns False, AssertionError is raised:\n",
    "assert x == \"goodbye\", \"x should be 'hello'\""
   ]
  },
  {
   "cell_type": "code",
   "execution_count": 108,
   "id": "0c1b41bb",
   "metadata": {},
   "outputs": [
    {
     "name": "stdout",
     "output_type": "stream",
     "text": [
      "<class 'NoneType'>\n",
      "None\n"
     ]
    }
   ],
   "source": [
    "import os\n",
    "f=None\n",
    "# f= ''\n",
    "print(type(f))\n",
    "with open('spped.txt', 'w') as a:\n",
    "    for i in range(5):\n",
    "        a.writelines(f'{i}')\n",
    "#         break\n",
    "    print(a.close())\n",
    "os.listdir()\n",
    "os.startfile('spped.txt')"
   ]
  },
  {
   "cell_type": "markdown",
   "id": "24d42f27",
   "metadata": {},
   "source": [
    "## COMPREHENSIONS"
   ]
  },
  {
   "cell_type": "markdown",
   "id": "5ca1cdfe",
   "metadata": {},
   "source": [
    "### List Comprehensions"
   ]
  },
  {
   "cell_type": "code",
   "execution_count": 114,
   "id": "5f789484",
   "metadata": {},
   "outputs": [
    {
     "name": "stdout",
     "output_type": "stream",
     "text": [
      "[2, 35, 63, 64, 84, 80, 94, 43, 81, 76]\n",
      "[31, 99, 10, 70, 66, 21, 37, 27, 23, 73]\n"
     ]
    }
   ],
   "source": [
    "import random\n",
    "# random_numbers = [num for num in random.random(1,100)]\n",
    "\n",
    "nums = []\n",
    "for _ in range(10):\n",
    "    nums.append(random.randint(1, 100))\n",
    "\n",
    "print(nums)\n",
    "\n",
    "nums2 = [random.randint(1,100) for _ in range(10)]\n",
    "print(nums2)\n",
    "    \n"
   ]
  },
  {
   "cell_type": "markdown",
   "id": "a0989e4d",
   "metadata": {},
   "source": [
    "### Dict Comprehensions"
   ]
  },
  {
   "cell_type": "code",
   "execution_count": 133,
   "id": "9ddbd778",
   "metadata": {},
   "outputs": [
    {
     "name": "stdout",
     "output_type": "stream",
     "text": [
      "{1: 1, 3: 9, 5: 25, 7: 49, 9: 81, 11: 121, 13: 169, 15: 225, 17: 289, 19: 361, 21: 441, 23: 529, 25: 625, 27: 729, 29: 841, 31: 961, 33: 1089, 35: 1225, 37: 1369, 39: 1521, 41: 1681, 43: 1849, 45: 2025, 47: 2209, 49: 2401, 51: 2601, 53: 2809, 55: 3025, 57: 3249, 59: 3481, 61: 3721, 63: 3969, 65: 4225, 67: 4489, 69: 4761, 71: 5041, 73: 5329, 75: 5625, 77: 5929, 79: 6241, 81: 6561, 83: 6889, 85: 7225, 87: 7569, 89: 7921, 91: 8281, 93: 8649, 95: 9025, 97: 9409, 99: 9801}\n"
     ]
    }
   ],
   "source": [
    "sqaures = {i:i**2 for i in range(100) if i%2}\n",
    "print(sqaures)"
   ]
  },
  {
   "cell_type": "code",
   "execution_count": 135,
   "id": "609b2c78",
   "metadata": {},
   "outputs": [
    {
     "name": "stdout",
     "output_type": "stream",
     "text": [
      "dict_items([('Sourabh', 29), ('Chinmay', 32), ('Sarvesh', 28), ('Pudina', 36)])\n"
     ]
    }
   ],
   "source": [
    "name = ['Sourabh', 'Chinmay', 'Sarvesh', 'Pudina']\n",
    "age = [29, 32, 28, 36]\n",
    "\n",
    "name_age = {_name:_age for _name,_age in zip(name, age)}\n",
    "print(name_age.items(), sep='\\n')"
   ]
  },
  {
   "cell_type": "code",
   "execution_count": 1,
   "id": "3806549f",
   "metadata": {},
   "outputs": [
    {
     "name": "stdout",
     "output_type": "stream",
     "text": [
      "{0: True, 1: True, 2: True, 3: True, 4: True}\n"
     ]
    }
   ],
   "source": [
    "dic=dict.fromkeys(range(5), True)\n",
    "print(dic)"
   ]
  },
  {
   "cell_type": "code",
   "execution_count": 3,
   "id": "bfed5473",
   "metadata": {},
   "outputs": [
    {
     "ename": "TypeError",
     "evalue": "eval() arg 1 must be a string, bytes or code object",
     "output_type": "error",
     "traceback": [
      "\u001b[1;31m---------------------------------------------------------------------------\u001b[0m",
      "\u001b[1;31mTypeError\u001b[0m                                 Traceback (most recent call last)",
      "\u001b[1;32m~\\AppData\\Local\\Temp\\ipykernel_2740\\2094092983.py\u001b[0m in \u001b[0;36m<module>\u001b[1;34m\u001b[0m\n\u001b[1;32m----> 1\u001b[1;33m \u001b[0mdic\u001b[0m\u001b[1;33m=\u001b[0m\u001b[0mdict\u001b[0m\u001b[1;33m.\u001b[0m\u001b[0mfromkeys\u001b[0m\u001b[1;33m(\u001b[0m\u001b[0mrange\u001b[0m\u001b[1;33m(\u001b[0m\u001b[1;36m5\u001b[0m\u001b[1;33m)\u001b[0m\u001b[1;33m,\u001b[0m \u001b[0meval\u001b[0m\u001b[1;33m(\u001b[0m\u001b[1;32mlambda\u001b[0m \u001b[0mx\u001b[0m\u001b[1;33m:\u001b[0m \u001b[0mx\u001b[0m\u001b[1;33m**\u001b[0m\u001b[1;36m2\u001b[0m\u001b[1;33m)\u001b[0m\u001b[1;33m)\u001b[0m\u001b[1;33m\u001b[0m\u001b[0m\n\u001b[0m\u001b[0;32m      2\u001b[0m \u001b[0mprint\u001b[0m\u001b[1;33m(\u001b[0m\u001b[0mdic\u001b[0m\u001b[1;33m)\u001b[0m\u001b[1;33m\u001b[0m\u001b[0m\n",
      "\u001b[1;31mTypeError\u001b[0m: eval() arg 1 must be a string, bytes or code object"
     ]
    }
   ],
   "source": [
    "dic=dict.fromkeys(range(5), lambda x: x**2)\n",
    "print(dic)\n"
   ]
  },
  {
   "cell_type": "markdown",
   "id": "bbed649c",
   "metadata": {},
   "source": [
    "## Lambda Functions"
   ]
  },
  {
   "cell_type": "code",
   "execution_count": 12,
   "id": "e387205b",
   "metadata": {},
   "outputs": [
    {
     "name": "stdout",
     "output_type": "stream",
     "text": [
      "20\n",
      "40\n",
      "60\n",
      "80\n"
     ]
    }
   ],
   "source": [
    "is_even_list = [lambda arg=x: arg * 10 for x in range(1, 10) if not x%2]\n",
    "\n",
    "# iterate on each lambda function\n",
    "# and invoke the function to get the calculated value\n",
    "for item in is_even_list:\n",
    "    print(item())\n"
   ]
  },
  {
   "cell_type": "code",
   "execution_count": 14,
   "id": "7f45c46a",
   "metadata": {},
   "outputs": [
    {
     "name": "stdout",
     "output_type": "stream",
     "text": [
      "[0, 20, 40, 60, 80]\n"
     ]
    }
   ],
   "source": [
    "listwa_1 = [x*10 for x in range(10) if not x%2]\n",
    "print(listwa_1)"
   ]
  },
  {
   "cell_type": "markdown",
   "id": "2e2ae280",
   "metadata": {},
   "source": [
    "## DECORATOR "
   ]
  },
  {
   "cell_type": "code",
   "execution_count": 37,
   "id": "c98be5bf",
   "metadata": {},
   "outputs": [],
   "source": [
    "# Decorater Function : Let us print iterable one-by-one\n",
    "def print_iters(func):\n",
    "    # Args are passed to wrapper function\n",
    "    def wrapper(iterable):\n",
    "        # Saved writing expanded for loop\n",
    "        _ = [func(item) for item in iterable]\n",
    "    return wrapper\n",
    "\n",
    "# Monkey Patching On Print Function\n",
    "# This patching is needed since we have to decorate the original function and 'print' is built-in function\n",
    "_print = print\n",
    "\n",
    "@print_iters\n",
    "def _print(object):\n",
    "    print(object)\n"
   ]
  },
  {
   "cell_type": "code",
   "execution_count": 30,
   "id": "c39698f2",
   "metadata": {},
   "outputs": [],
   "source": [
    "listwa = list(range(10))"
   ]
  },
  {
   "cell_type": "code",
   "execution_count": 38,
   "id": "118c01ca",
   "metadata": {},
   "outputs": [
    {
     "name": "stdout",
     "output_type": "stream",
     "text": [
      "0\n",
      "1\n",
      "2\n",
      "3\n",
      "4\n",
      "5\n",
      "6\n",
      "7\n",
      "8\n",
      "9\n"
     ]
    }
   ],
   "source": [
    "# print(listwa)\n",
    "_print(listwa)"
   ]
  },
  {
   "cell_type": "markdown",
   "id": "9792aa16",
   "metadata": {},
   "source": [
    "## DEEP COPY vs SHALLOW COPY"
   ]
  },
  {
   "cell_type": "code",
   "execution_count": 13,
   "id": "60a97858",
   "metadata": {},
   "outputs": [
    {
     "name": "stdout",
     "output_type": "stream",
     "text": [
      "The original elements before deep copying\n",
      "1 2 [3, 5] 4 \r\n",
      "The new list of elements after deep copying \n",
      "1 2 [7, 5] 4 \r\n",
      "The original elements after deep copying\n",
      "1 2 [3, 5] 4 \n",
      "The original elements after shallow copying\n",
      "1 2 [3, 5, 33] 4 \n",
      "The original elements after std copying\n",
      "1 2 [3, 5, 33, 44] 4 \n",
      "The original elements after std copying\n",
      "1 2 [99, 5] 4 \n",
      "ID for li1: 1763839194440\n",
      "ID for li2: 1763839194760\n",
      "ID for li3: 1763839799880\n",
      "ID for li4: 1763839194440\n"
     ]
    }
   ],
   "source": [
    "import copy\n",
    "\n",
    "# initializing list 1\n",
    "li1 = [1, 2, [3,5], 4]\n",
    "\n",
    "# using deepcopy to deep copy\n",
    "li2 = copy.deepcopy(li1)\n",
    "li3 = copy.copy(li1)\n",
    "li4 = li1\n",
    "\n",
    "# original elements of list\n",
    "print (\"The original elements before deep copying\")\n",
    "for i in range(0,len(li1)):\n",
    "\tprint (li1[i],end=\" \")\n",
    "\n",
    "print(\"\\r\")\n",
    "\n",
    "# adding and element to new list\n",
    "li2[2][0] = 7\n",
    "\n",
    "\n",
    "# Change is reflected in l2\n",
    "print (\"The new list of elements after deep copying \")\n",
    "for i in range(0,len( li1)):\n",
    "\tprint (li2[i],end=\" \")\n",
    "\n",
    "print(\"\\r\")\n",
    "\n",
    "# Change is NOT reflected in original list\n",
    "# as it is a deep copy\n",
    "print (\"The original elements after deep copying\")\n",
    "for i in range(0,len( li1)):\n",
    "\tprint (li1[i],end=\" \")\n",
    "\n",
    "# Modifying the shallow Copy    \n",
    "li3[2].append(33)\n",
    "print (\"\\nThe original elements after shallow copying\")\n",
    "for i in range(0,len( li1)):\n",
    "\tprint (li1[i],end=\" \")\n",
    "\n",
    "# Modifying the std Copy\n",
    "li4[2].append(44)\n",
    "print (\"\\nThe original elements after std copying\")\n",
    "for i in range(0,len( li1)):\n",
    "\tprint (li1[i],end=\" \")\n",
    "    \n",
    "# Modifying Deep Copy Again\n",
    "li2[2][0] = 99\n",
    "print (\"\\nThe original elements after std copying\")\n",
    "for i in range(0,len( li2)):\n",
    "\tprint (li2[i],end=\" \")\n",
    "    \n",
    "print(f'\\nID for li1: {id(li1)}')\n",
    "print(f'ID for li2: {id(li2)}')\n",
    "print(f'ID for li3: {id(li3)}')\n",
    "print(f'ID for li4: {id(li4)}')\n",
    "\n"
   ]
  },
  {
   "cell_type": "code",
   "execution_count": null,
   "id": "77d34fd1",
   "metadata": {},
   "outputs": [],
   "source": []
  }
 ],
 "metadata": {
  "kernelspec": {
   "display_name": "Python 3 (ipykernel)",
   "language": "python",
   "name": "python3"
  },
  "language_info": {
   "codemirror_mode": {
    "name": "ipython",
    "version": 3
   },
   "file_extension": ".py",
   "mimetype": "text/x-python",
   "name": "python",
   "nbconvert_exporter": "python",
   "pygments_lexer": "ipython3",
   "version": "3.7.0"
  },
  "widgets": {
   "application/vnd.jupyter.widget-state+json": {
    "state": {},
    "version_major": 2,
    "version_minor": 0
   }
  }
 },
 "nbformat": 4,
 "nbformat_minor": 5
}
